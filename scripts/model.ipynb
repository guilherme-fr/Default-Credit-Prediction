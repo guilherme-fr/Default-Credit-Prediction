{
 "cells": [
  {
   "cell_type": "markdown",
   "metadata": {},
   "source": [
    "# Base Model for Client Default Payment Prediction"
   ]
  },
  {
   "cell_type": "markdown",
   "metadata": {},
   "source": [
    "### Importing libraries"
   ]
  },
  {
   "cell_type": "code",
   "execution_count": 97,
   "metadata": {},
   "outputs": [],
   "source": [
    "import numpy as np\n",
    "import pandas as pd\n",
    "import scipy\n",
    "from math import sqrt\n",
    "import matplotlib.pyplot as plt\n",
    "\n",
    "from sklearn.ensemble import RandomForestClassifier\n",
    "from sklearn.svm import SVC\n",
    "from sklearn.neighbors import KNeighborsClassifier\n",
    "\n",
    "from sklearn.metrics import accuracy_score\n",
    "from sklearn.metrics import cohen_kappa_score\n",
    "from sklearn.metrics import confusion_matrix\n",
    "from sklearn.model_selection import cross_val_score\n",
    "from sklearn.model_selection import RandomizedSearchCV\n",
    "from sklearn.model_selection import GridSearchCV\n",
    "\n",
    "from sklearn.model_selection import train_test_split\n",
    "\n",
    "from sklearn import preprocessing\n",
    "\n",
    "import matplotlib.pyplot as plt\n",
    "import seaborn as sns "
   ]
  },
  {
   "cell_type": "markdown",
   "metadata": {},
   "source": [
    "### Loading data into memory"
   ]
  },
  {
   "cell_type": "code",
   "execution_count": 98,
   "metadata": {},
   "outputs": [],
   "source": [
    "creditDataPath = \"../dataset/default_of_credit_card_clients.csv\"\n",
    "creditData = pd.read_csv(creditDataPath, header = 1, index_col = 0)"
   ]
  },
  {
   "cell_type": "markdown",
   "metadata": {},
   "source": [
    "### Selecting the dependent and independent variables"
   ]
  },
  {
   "cell_type": "code",
   "execution_count": 99,
   "metadata": {},
   "outputs": [],
   "source": [
    "creditFeatures = creditData.drop('default payment next month', axis = 1)\n",
    "creditTarget = creditData.loc[:, 'default payment next month']"
   ]
  },
  {
   "cell_type": "markdown",
   "metadata": {},
   "source": [
    "### Data sample"
   ]
  },
  {
   "cell_type": "code",
   "execution_count": 100,
   "metadata": {},
   "outputs": [],
   "source": [
    "#Sampling 10% of the data using the 'train_test_split' method to keep the proportion of the dependent variable.\n",
    "_, sampleFeatures, _, sampleTarget = train_test_split(creditFeatures, creditTarget, \n",
    "                                                       stratify = creditTarget, test_size = 0.1, random_state = 0)"
   ]
  },
  {
   "cell_type": "markdown",
   "metadata": {},
   "source": [
    "### Split into training and test set"
   ]
  },
  {
   "cell_type": "code",
   "execution_count": 101,
   "metadata": {},
   "outputs": [],
   "source": [
    "x_train, x_test, y_train, y_test = train_test_split(sampleFeatures, sampleTarget, \n",
    "                                                    stratify = sampleTarget, test_size = 0.3, random_state = 0)"
   ]
  },
  {
   "cell_type": "markdown",
   "metadata": {},
   "source": [
    "### Base Models"
   ]
  },
  {
   "cell_type": "code",
   "execution_count": 102,
   "metadata": {},
   "outputs": [],
   "source": [
    "rf = RandomForestClassifier(n_estimators = 10, random_state = 0)\n",
    "svm = SVC(gamma = 'auto')\n",
    "knn = KNeighborsClassifier()"
   ]
  },
  {
   "cell_type": "markdown",
   "metadata": {},
   "source": [
    "\n",
    "### Cross-Validation Scores"
   ]
  },
  {
   "cell_type": "code",
   "execution_count": 103,
   "metadata": {},
   "outputs": [],
   "source": [
    "# Defining function for cross-validation and scores\n",
    "def cvScores(model, x_train, y_train, cv) :\n",
    "    modelCVScores = cross_val_score(model, x_train, y_train, cv = cv, n_jobs = -1)\n",
    "    modelCVScoresMean = modelCVScores.mean()\n",
    "    modelCVScoresStd = modelCVScores.std()\n",
    "    \n",
    "    return pd.DataFrame({'CV-Mean' : [modelCVScoresMean], 'CV-Sd' : [modelCVScoresStd]})"
   ]
  },
  {
   "cell_type": "code",
   "execution_count": 104,
   "metadata": {},
   "outputs": [],
   "source": [
    "rfCVScore = cvScores(rf, x_train, y_train, 5)\n",
    "svmCVScore = cvScores(svm, x_train, y_train, 5)\n",
    "knnCVScore = cvScores(knn, x_train, y_train, 5)"
   ]
  },
  {
   "cell_type": "code",
   "execution_count": 105,
   "metadata": {},
   "outputs": [
    {
     "name": "stdout",
     "output_type": "stream",
     "text": [
      "Random Forest\n",
      "   CV-Mean     CV-Sd\n",
      "0  0.79381  0.012103\n",
      "\n",
      "SVM\n",
      "    CV-Mean     CV-Sd\n",
      "0  0.777143  0.002857\n",
      "\n",
      "K-NN\n",
      "   CV-Mean     CV-Sd\n",
      "0     0.74  0.020504\n"
     ]
    }
   ],
   "source": [
    "print('Random Forest')\n",
    "print(rfCVScore)\n",
    "\n",
    "print('\\nSVM')\n",
    "print(svmCVScore)\n",
    "\n",
    "print('\\nK-NN')\n",
    "print(knnCVScore)"
   ]
  },
  {
   "cell_type": "markdown",
   "metadata": {},
   "source": [
    "### Predictions and metrics"
   ]
  },
  {
   "cell_type": "code",
   "execution_count": 106,
   "metadata": {},
   "outputs": [],
   "source": [
    "# Defining function for prediction and metrics\n",
    "def classif_predict_metric(model, x_test, y_test) :\n",
    "    modelPredictions = model.predict(x_test)\n",
    "\n",
    "    accuracy_model = accuracy_score(y_test, modelPredictions)\n",
    "    kappa_model = cohen_kappa_score(y_test, modelPredictions)\n",
    "    \n",
    "    return modelPredictions, accuracy_model, kappa_model"
   ]
  },
  {
   "cell_type": "code",
   "execution_count": 107,
   "metadata": {},
   "outputs": [],
   "source": [
    "# Fitting models\n",
    "rf = rf.fit(x_train, y_train)\n",
    "svm = svm.fit(x_train, y_train)\n",
    "knn = knn.fit(x_train, y_train)"
   ]
  },
  {
   "cell_type": "code",
   "execution_count": 108,
   "metadata": {},
   "outputs": [
    {
     "name": "stdout",
     "output_type": "stream",
     "text": [
      "Random Forest accuracy: 0.806667\n",
      "Random Forest kappa: 0.324447\n",
      "\n",
      "SVM accuracy: 0.775556\n",
      "SVM kappa: -0.006611\n",
      "\n",
      "K-NN accuracy: 0.763333\n",
      "K-NN kappa: 0.149074\n"
     ]
    }
   ],
   "source": [
    "rfPrediction, accuracy_rf, kappa_rf = classif_predict_metric(rf, x_test, y_test)\n",
    "print('Random Forest accuracy: %.6f' % accuracy_rf)\n",
    "print('Random Forest kappa: %.6f' % kappa_rf)\n",
    "\n",
    "svmPrediction, accuracy_svm, kappa_svm = classif_predict_metric(svm, x_test, y_test)\n",
    "print('\\nSVM accuracy: %.6f' % accuracy_svm)\n",
    "print('SVM kappa: %.6f' % kappa_svm)\n",
    "\n",
    "knnPrediction, accuracy_knn, kappa_knn = classif_predict_metric(knn, x_test, y_test)\n",
    "print('\\nK-NN accuracy: %.6f' % accuracy_knn)\n",
    "print('K-NN kappa: %.6f' % kappa_knn)"
   ]
  },
  {
   "cell_type": "markdown",
   "metadata": {},
   "source": [
    "### Variables Importance"
   ]
  },
  {
   "cell_type": "code",
   "execution_count": 127,
   "metadata": {},
   "outputs": [
    {
     "data": {
      "text/html": [
       "<div>\n",
       "<style scoped>\n",
       "    .dataframe tbody tr th:only-of-type {\n",
       "        vertical-align: middle;\n",
       "    }\n",
       "\n",
       "    .dataframe tbody tr th {\n",
       "        vertical-align: top;\n",
       "    }\n",
       "\n",
       "    .dataframe thead th {\n",
       "        text-align: right;\n",
       "    }\n",
       "</style>\n",
       "<table border=\"1\" class=\"dataframe\">\n",
       "  <thead>\n",
       "    <tr style=\"text-align: right;\">\n",
       "      <th></th>\n",
       "      <th>Variable</th>\n",
       "      <th>Score</th>\n",
       "    </tr>\n",
       "  </thead>\n",
       "  <tbody>\n",
       "    <tr>\n",
       "      <th>5</th>\n",
       "      <td>PAY_0</td>\n",
       "      <td>0.098717</td>\n",
       "    </tr>\n",
       "    <tr>\n",
       "      <th>4</th>\n",
       "      <td>AGE</td>\n",
       "      <td>0.060960</td>\n",
       "    </tr>\n",
       "    <tr>\n",
       "      <th>12</th>\n",
       "      <td>BILL_AMT2</td>\n",
       "      <td>0.056006</td>\n",
       "    </tr>\n",
       "    <tr>\n",
       "      <th>15</th>\n",
       "      <td>BILL_AMT5</td>\n",
       "      <td>0.055475</td>\n",
       "    </tr>\n",
       "    <tr>\n",
       "      <th>11</th>\n",
       "      <td>BILL_AMT1</td>\n",
       "      <td>0.053959</td>\n",
       "    </tr>\n",
       "    <tr>\n",
       "      <th>14</th>\n",
       "      <td>BILL_AMT4</td>\n",
       "      <td>0.053101</td>\n",
       "    </tr>\n",
       "    <tr>\n",
       "      <th>0</th>\n",
       "      <td>LIMIT_BAL</td>\n",
       "      <td>0.052142</td>\n",
       "    </tr>\n",
       "    <tr>\n",
       "      <th>17</th>\n",
       "      <td>PAY_AMT1</td>\n",
       "      <td>0.050601</td>\n",
       "    </tr>\n",
       "    <tr>\n",
       "      <th>18</th>\n",
       "      <td>PAY_AMT2</td>\n",
       "      <td>0.050599</td>\n",
       "    </tr>\n",
       "    <tr>\n",
       "      <th>13</th>\n",
       "      <td>BILL_AMT3</td>\n",
       "      <td>0.050546</td>\n",
       "    </tr>\n",
       "    <tr>\n",
       "      <th>20</th>\n",
       "      <td>PAY_AMT4</td>\n",
       "      <td>0.049470</td>\n",
       "    </tr>\n",
       "    <tr>\n",
       "      <th>19</th>\n",
       "      <td>PAY_AMT3</td>\n",
       "      <td>0.048821</td>\n",
       "    </tr>\n",
       "    <tr>\n",
       "      <th>16</th>\n",
       "      <td>BILL_AMT6</td>\n",
       "      <td>0.046466</td>\n",
       "    </tr>\n",
       "    <tr>\n",
       "      <th>21</th>\n",
       "      <td>PAY_AMT5</td>\n",
       "      <td>0.045189</td>\n",
       "    </tr>\n",
       "    <tr>\n",
       "      <th>22</th>\n",
       "      <td>PAY_AMT6</td>\n",
       "      <td>0.041561</td>\n",
       "    </tr>\n",
       "    <tr>\n",
       "      <th>6</th>\n",
       "      <td>PAY_2</td>\n",
       "      <td>0.038285</td>\n",
       "    </tr>\n",
       "    <tr>\n",
       "      <th>9</th>\n",
       "      <td>PAY_5</td>\n",
       "      <td>0.035920</td>\n",
       "    </tr>\n",
       "    <tr>\n",
       "      <th>2</th>\n",
       "      <td>EDUCATION</td>\n",
       "      <td>0.024205</td>\n",
       "    </tr>\n",
       "    <tr>\n",
       "      <th>7</th>\n",
       "      <td>PAY_3</td>\n",
       "      <td>0.021759</td>\n",
       "    </tr>\n",
       "    <tr>\n",
       "      <th>10</th>\n",
       "      <td>PAY_6</td>\n",
       "      <td>0.020302</td>\n",
       "    </tr>\n",
       "    <tr>\n",
       "      <th>8</th>\n",
       "      <td>PAY_4</td>\n",
       "      <td>0.020222</td>\n",
       "    </tr>\n",
       "    <tr>\n",
       "      <th>3</th>\n",
       "      <td>MARRIAGE</td>\n",
       "      <td>0.015008</td>\n",
       "    </tr>\n",
       "    <tr>\n",
       "      <th>1</th>\n",
       "      <td>SEX</td>\n",
       "      <td>0.010687</td>\n",
       "    </tr>\n",
       "  </tbody>\n",
       "</table>\n",
       "</div>"
      ],
      "text/plain": [
       "     Variable     Score\n",
       "5       PAY_0  0.098717\n",
       "4         AGE  0.060960\n",
       "12  BILL_AMT2  0.056006\n",
       "15  BILL_AMT5  0.055475\n",
       "11  BILL_AMT1  0.053959\n",
       "14  BILL_AMT4  0.053101\n",
       "0   LIMIT_BAL  0.052142\n",
       "17   PAY_AMT1  0.050601\n",
       "18   PAY_AMT2  0.050599\n",
       "13  BILL_AMT3  0.050546\n",
       "20   PAY_AMT4  0.049470\n",
       "19   PAY_AMT3  0.048821\n",
       "16  BILL_AMT6  0.046466\n",
       "21   PAY_AMT5  0.045189\n",
       "22   PAY_AMT6  0.041561\n",
       "6       PAY_2  0.038285\n",
       "9       PAY_5  0.035920\n",
       "2   EDUCATION  0.024205\n",
       "7       PAY_3  0.021759\n",
       "10      PAY_6  0.020302\n",
       "8       PAY_4  0.020222\n",
       "3    MARRIAGE  0.015008\n",
       "1         SEX  0.010687"
      ]
     },
     "execution_count": 127,
     "metadata": {},
     "output_type": "execute_result"
    }
   ],
   "source": [
    "var_imp = pd.DataFrame({'Variable' : creditData.drop('default payment next month', axis = 1).columns, \n",
    "                        'Score' : rf.feature_importances_})\n",
    "\n",
    "var_imp.sort_values('Score', ascending = False)"
   ]
  },
  {
   "cell_type": "markdown",
   "metadata": {},
   "source": [
    "## Feature Selection"
   ]
  },
  {
   "cell_type": "code",
   "execution_count": 110,
   "metadata": {},
   "outputs": [
    {
     "data": {
      "text/plain": [
       "Index(['LIMIT_BAL', 'AGE', 'PAY_0', 'PAY_2', 'BILL_AMT1', 'PAY_AMT1',\n",
       "       'PAY_AMT2', 'PAY_AMT3', 'PAY_AMT4', 'PAY_AMT5', 'PAY_AMT6'],\n",
       "      dtype='object')"
      ]
     },
     "execution_count": 110,
     "metadata": {},
     "output_type": "execute_result"
    }
   ],
   "source": [
    "x_train_fs = x_train\n",
    "x_test_fs = x_test\n",
    "\n",
    "# Removing variables with high colinearity\n",
    "x_train_fs = x_train_fs.drop(['BILL_AMT2', 'BILL_AMT3', 'BILL_AMT4', 'BILL_AMT5', 'BILL_AMT6'], axis = 1)\n",
    "x_test_fs = x_test_fs.drop(['BILL_AMT2', 'BILL_AMT3', 'BILL_AMT4', 'BILL_AMT5', 'BILL_AMT6'], axis = 1)\n",
    "\n",
    "# Removing variables least important\n",
    "x_train_fs = x_train_fs.drop(['SEX', 'MARRIAGE', 'EDUCATION', 'PAY_6', 'PAY_5', 'PAY_4', 'PAY_3'], axis = 1)\n",
    "x_test_fs = x_test_fs.drop(['SEX', 'MARRIAGE', 'EDUCATION', 'PAY_6', 'PAY_5', 'PAY_4', 'PAY_3'], axis = 1)\n",
    "\n",
    "x_train_fs.columns"
   ]
  },
  {
   "cell_type": "markdown",
   "metadata": {},
   "source": [
    "### Model"
   ]
  },
  {
   "cell_type": "code",
   "execution_count": 111,
   "metadata": {},
   "outputs": [],
   "source": [
    "# Initializing Models\n",
    "rf_fs = RandomForestClassifier(n_estimators = 10, random_state = 0, n_jobs = -1)\n",
    "svm_fs = SVC(gamma = 'auto')\n",
    "knn_fs = KNeighborsClassifier(n_jobs = -1)"
   ]
  },
  {
   "cell_type": "markdown",
   "metadata": {},
   "source": [
    "### Cross-validation"
   ]
  },
  {
   "cell_type": "code",
   "execution_count": 112,
   "metadata": {},
   "outputs": [],
   "source": [
    "rf_fs_CVScore = cvScores(rf_fs, x_train_fs, y_train, 5)\n",
    "svm_fs_CVScore = cvScores(svm_fs, x_train_fs, y_train, 5)\n",
    "knn_fs_CVScore = cvScores(knn_fs, x_train_fs, y_train, 5)"
   ]
  },
  {
   "cell_type": "code",
   "execution_count": 113,
   "metadata": {},
   "outputs": [
    {
     "name": "stdout",
     "output_type": "stream",
     "text": [
      "Random Forest\n",
      "    CV-Mean     CV-Sd\n",
      "0  0.799048  0.006999\n",
      "\n",
      "SVM\n",
      "    CV-Mean     CV-Sd\n",
      "0  0.777619  0.001905\n",
      "\n",
      "K-NN\n",
      "    CV-Mean     CV-Sd\n",
      "0  0.750476  0.007882\n"
     ]
    }
   ],
   "source": [
    "print('Random Forest')\n",
    "print(rf_fs_CVScore)\n",
    "\n",
    "print('\\nSVM')\n",
    "print(svm_fs_CVScore)\n",
    "\n",
    "print('\\nK-NN')\n",
    "print(knn_fs_CVScore)"
   ]
  },
  {
   "cell_type": "markdown",
   "metadata": {},
   "source": [
    "### Predictions and metrics"
   ]
  },
  {
   "cell_type": "code",
   "execution_count": 114,
   "metadata": {},
   "outputs": [],
   "source": [
    "# Fitting models\n",
    "rf_fs = rf_fs.fit(x_train_fs, y_train)\n",
    "svm_fs = svm_fs.fit(x_train_fs, y_train)\n",
    "knn_fs = knn_fs.fit(x_train_fs, y_train)"
   ]
  },
  {
   "cell_type": "code",
   "execution_count": 115,
   "metadata": {},
   "outputs": [
    {
     "name": "stdout",
     "output_type": "stream",
     "text": [
      "Random Forest accuracy: 0.794444\n",
      "Random Forest kappa: 0.273877\n",
      "\n",
      "SVM accuracy: 0.776667\n",
      "SVM kappa: -0.004420\n",
      "\n",
      "K-NN accuracy: 0.743333\n",
      "K-NN kappa: 0.051811\n"
     ]
    }
   ],
   "source": [
    "rf_fs_Prediction, accuracy_rf_fs, kappa_rf_fs = classif_predict_metric(rf_fs, x_test_fs, y_test)\n",
    "print('Random Forest accuracy: %.6f' % accuracy_rf_fs)\n",
    "print('Random Forest kappa: %.6f' % kappa_rf_fs)\n",
    "\n",
    "svm_fs_Prediction, accuracy_svm_fs, kappa_svm_fs = classif_predict_metric(svm_fs, x_test_fs, y_test)\n",
    "print('\\nSVM accuracy: %.6f' % accuracy_svm_fs)\n",
    "print('SVM kappa: %.6f' % kappa_svm_fs)\n",
    "\n",
    "knn_fs_Prediction, accuracy_knn_fs, kappa_knn_fs = classif_predict_metric(knn_fs, x_test_fs, y_test)\n",
    "print('\\nK-NN accuracy: %.6f' % accuracy_knn_fs)\n",
    "print('K-NN kappa: %.6f' % kappa_knn_fs)"
   ]
  },
  {
   "cell_type": "markdown",
   "metadata": {},
   "source": [
    "## Hyperparameters Tuning"
   ]
  },
  {
   "cell_type": "code",
   "execution_count": 116,
   "metadata": {},
   "outputs": [],
   "source": [
    "# Standardization of data\n",
    "scaler = preprocessing.StandardScaler().fit(x_train_fs)\n",
    "\n",
    "x_train_fs_std = scaler.transform(x_train_fs)\n",
    "x_test_fs_std = scaler.transform(x_test_fs)"
   ]
  },
  {
   "cell_type": "markdown",
   "metadata": {},
   "source": [
    "## Random Forest"
   ]
  },
  {
   "cell_type": "markdown",
   "metadata": {},
   "source": [
    "### Random Search"
   ]
  },
  {
   "cell_type": "code",
   "execution_count": 117,
   "metadata": {},
   "outputs": [
    {
     "name": "stdout",
     "output_type": "stream",
     "text": [
      "Fitting 3 folds for each of 100 candidates, totalling 300 fits\n"
     ]
    },
    {
     "name": "stderr",
     "output_type": "stream",
     "text": [
      "[Parallel(n_jobs=-1)]: Using backend LokyBackend with 4 concurrent workers.\n",
      "[Parallel(n_jobs=-1)]: Done  33 tasks      | elapsed:   51.5s\n",
      "[Parallel(n_jobs=-1)]: Done 154 tasks      | elapsed:  3.7min\n",
      "[Parallel(n_jobs=-1)]: Done 300 out of 300 | elapsed:  7.3min finished\n"
     ]
    },
    {
     "data": {
      "text/plain": [
       "{'n_estimators': 300, 'max_features': 7, 'max_depth': 3}"
      ]
     },
     "execution_count": 117,
     "metadata": {},
     "output_type": "execute_result"
    }
   ],
   "source": [
    "rf_params = {'n_estimators' : np.arange(100, 2000, 100), \n",
    "            'max_features' : np.arange(1, len(x_train_fs.columns), 1), \n",
    "            'max_depth' : np.arange(1, 25, 1)}\n",
    "rf_default = RandomForestClassifier()\n",
    "\n",
    "rf_random = RandomizedSearchCV(estimator = rf_default, \n",
    "                               param_distributions = rf_params, \n",
    "                               n_iter = 100, \n",
    "                               cv = 3, verbose = 2, random_state = 0, n_jobs = -1)\n",
    "# Fit the random search model\n",
    "rf_random.fit(x_train_fs, y_train)\n",
    "rf_random.best_params_"
   ]
  },
  {
   "cell_type": "markdown",
   "metadata": {},
   "source": [
    "#### Cross-Validation Scores"
   ]
  },
  {
   "cell_type": "code",
   "execution_count": 118,
   "metadata": {},
   "outputs": [],
   "source": [
    "# rf_hyp = RandomForestClassifier(n_estimators = 1700, max_features = 2, max_depth = 16, n_jobs = -1)\n",
    "rf_hyp = RandomForestClassifier(n_estimators = 300, max_features = 7, max_depth = 3, n_jobs = -1)"
   ]
  },
  {
   "cell_type": "code",
   "execution_count": 121,
   "metadata": {},
   "outputs": [],
   "source": [
    "rf_hyp_CVScores = cvScores(rf_hyp, x_train_fs, y_train, cv = 5)"
   ]
  },
  {
   "cell_type": "code",
   "execution_count": 122,
   "metadata": {},
   "outputs": [
    {
     "name": "stdout",
     "output_type": "stream",
     "text": [
      "Random Forest\n",
      "   CV-Mean     CV-Sd\n",
      "0     0.81  0.012724\n"
     ]
    }
   ],
   "source": [
    "print('Random Forest')\n",
    "print(rf_hyp_CVScores)"
   ]
  },
  {
   "cell_type": "markdown",
   "metadata": {},
   "source": [
    "#### Predictions and metrics"
   ]
  },
  {
   "cell_type": "code",
   "execution_count": 123,
   "metadata": {},
   "outputs": [],
   "source": [
    "# Fitting model\n",
    "rf_hyp = rf_hyp.fit(x_train_fs, y_train)"
   ]
  },
  {
   "cell_type": "code",
   "execution_count": 124,
   "metadata": {},
   "outputs": [
    {
     "name": "stdout",
     "output_type": "stream",
     "text": [
      "Random Forest Accuracy Score: 0.832222\n",
      "Random Forest Kappa Score: 0.402091 \n",
      "\n"
     ]
    }
   ],
   "source": [
    "rf_hyp_pred = rf_hyp.predict(x_test_fs)\n",
    "\n",
    "accuracy_rf_hyp = accuracy_score(y_test, rf_hyp_pred)\n",
    "kappa_rf_hyp = cohen_kappa_score(y_test, rf_hyp_pred)\n",
    "\n",
    "print(\"Random Forest Accuracy Score: %.6f\" % accuracy_rf_hyp)\n",
    "print(\"Random Forest Kappa Score: %.6f \\n\" % kappa_rf_hyp)"
   ]
  },
  {
   "cell_type": "code",
   "execution_count": 128,
   "metadata": {},
   "outputs": [
    {
     "data": {
      "text/html": [
       "<div>\n",
       "<style scoped>\n",
       "    .dataframe tbody tr th:only-of-type {\n",
       "        vertical-align: middle;\n",
       "    }\n",
       "\n",
       "    .dataframe tbody tr th {\n",
       "        vertical-align: top;\n",
       "    }\n",
       "\n",
       "    .dataframe thead th {\n",
       "        text-align: right;\n",
       "    }\n",
       "</style>\n",
       "<table border=\"1\" class=\"dataframe\">\n",
       "  <thead>\n",
       "    <tr style=\"text-align: right;\">\n",
       "      <th></th>\n",
       "      <th>Variable</th>\n",
       "      <th>Score</th>\n",
       "    </tr>\n",
       "  </thead>\n",
       "  <tbody>\n",
       "    <tr>\n",
       "      <th>2</th>\n",
       "      <td>PAY_0</td>\n",
       "      <td>0.526996</td>\n",
       "    </tr>\n",
       "    <tr>\n",
       "      <th>3</th>\n",
       "      <td>PAY_2</td>\n",
       "      <td>0.244777</td>\n",
       "    </tr>\n",
       "    <tr>\n",
       "      <th>6</th>\n",
       "      <td>PAY_AMT2</td>\n",
       "      <td>0.045360</td>\n",
       "    </tr>\n",
       "    <tr>\n",
       "      <th>8</th>\n",
       "      <td>PAY_AMT4</td>\n",
       "      <td>0.043537</td>\n",
       "    </tr>\n",
       "    <tr>\n",
       "      <th>4</th>\n",
       "      <td>BILL_AMT1</td>\n",
       "      <td>0.033556</td>\n",
       "    </tr>\n",
       "    <tr>\n",
       "      <th>5</th>\n",
       "      <td>PAY_AMT1</td>\n",
       "      <td>0.032326</td>\n",
       "    </tr>\n",
       "    <tr>\n",
       "      <th>0</th>\n",
       "      <td>LIMIT_BAL</td>\n",
       "      <td>0.022564</td>\n",
       "    </tr>\n",
       "    <tr>\n",
       "      <th>9</th>\n",
       "      <td>PAY_AMT5</td>\n",
       "      <td>0.015308</td>\n",
       "    </tr>\n",
       "    <tr>\n",
       "      <th>10</th>\n",
       "      <td>PAY_AMT6</td>\n",
       "      <td>0.013366</td>\n",
       "    </tr>\n",
       "    <tr>\n",
       "      <th>7</th>\n",
       "      <td>PAY_AMT3</td>\n",
       "      <td>0.011845</td>\n",
       "    </tr>\n",
       "    <tr>\n",
       "      <th>1</th>\n",
       "      <td>AGE</td>\n",
       "      <td>0.010366</td>\n",
       "    </tr>\n",
       "  </tbody>\n",
       "</table>\n",
       "</div>"
      ],
      "text/plain": [
       "     Variable     Score\n",
       "2       PAY_0  0.526996\n",
       "3       PAY_2  0.244777\n",
       "6    PAY_AMT2  0.045360\n",
       "8    PAY_AMT4  0.043537\n",
       "4   BILL_AMT1  0.033556\n",
       "5    PAY_AMT1  0.032326\n",
       "0   LIMIT_BAL  0.022564\n",
       "9    PAY_AMT5  0.015308\n",
       "10   PAY_AMT6  0.013366\n",
       "7    PAY_AMT3  0.011845\n",
       "1         AGE  0.010366"
      ]
     },
     "execution_count": 128,
     "metadata": {},
     "output_type": "execute_result"
    }
   ],
   "source": [
    "var_imp_hyp = pd.DataFrame({'Variable' : x_train_fs.columns, \n",
    "                        'Score' : rf_hyp.feature_importances_})\n",
    "\n",
    "var_imp_hyp.sort_values('Score', ascending = False)"
   ]
  },
  {
   "cell_type": "markdown",
   "metadata": {},
   "source": [
    "### Grid Search"
   ]
  },
  {
   "cell_type": "code",
   "execution_count": 129,
   "metadata": {},
   "outputs": [
    {
     "name": "stdout",
     "output_type": "stream",
     "text": [
      "Fitting 3 folds for each of 1080 candidates, totalling 3240 fits\n"
     ]
    },
    {
     "name": "stderr",
     "output_type": "stream",
     "text": [
      "[Parallel(n_jobs=-1)]: Using backend LokyBackend with 4 concurrent workers.\n",
      "[Parallel(n_jobs=-1)]: Done  33 tasks      | elapsed:    8.2s\n",
      "[Parallel(n_jobs=-1)]: Done 154 tasks      | elapsed:   31.9s\n",
      "[Parallel(n_jobs=-1)]: Done 357 tasks      | elapsed:  1.3min\n",
      "[Parallel(n_jobs=-1)]: Done 640 tasks      | elapsed:  2.6min\n",
      "[Parallel(n_jobs=-1)]: Done 1005 tasks      | elapsed:  4.5min\n",
      "[Parallel(n_jobs=-1)]: Done 1450 tasks      | elapsed:  7.5min\n",
      "[Parallel(n_jobs=-1)]: Done 1977 tasks      | elapsed: 11.7min\n",
      "[Parallel(n_jobs=-1)]: Done 2584 tasks      | elapsed: 17.3min\n",
      "[Parallel(n_jobs=-1)]: Done 3240 out of 3240 | elapsed: 23.6min finished\n"
     ]
    }
   ],
   "source": [
    "# rf_params = {'n_estimators' : np.arange(1600, 1850, 50), \n",
    "#             'max_features' : np.arange(1, 6, 1), \n",
    "#             'max_depth' : np.arange(14, 19, 1)}\n",
    "# rf_default = RandomForestClassifier(random_state = 0)\n",
    "\n",
    "# rf_grid = GridSearchCV(estimator = rf_default, \n",
    "#                        param_grid = rf_params, \n",
    "#                        cv = 3, verbose = 2, n_jobs = -1)\n",
    "# # Fit the random search model\n",
    "# rf_grid = rf_grid.fit(x_train_fs, y_train)\n",
    "\n",
    "rf_params = {'n_estimators' : np.arange(200, 400, 25), \n",
    "            'max_features' : np.arange(2, 11, 1), \n",
    "            'max_depth' : np.arange(1, 16, 1)}\n",
    "rf_default = RandomForestClassifier(random_state = 0)\n",
    "\n",
    "rf_grid = GridSearchCV(estimator = rf_default, \n",
    "                       param_grid = rf_params, \n",
    "                       cv = 3, verbose = 2, n_jobs = -1)\n",
    "# Fit the random search model\n",
    "rf_grid = rf_grid.fit(x_train_fs, y_train)"
   ]
  },
  {
   "cell_type": "code",
   "execution_count": 130,
   "metadata": {},
   "outputs": [
    {
     "data": {
      "text/plain": [
       "{'max_depth': 2, 'max_features': 8, 'n_estimators': 200}"
      ]
     },
     "execution_count": 130,
     "metadata": {},
     "output_type": "execute_result"
    }
   ],
   "source": [
    "rf_grid.best_params_"
   ]
  },
  {
   "cell_type": "markdown",
   "metadata": {},
   "source": [
    "#### Cross-validation Scores"
   ]
  },
  {
   "cell_type": "code",
   "execution_count": 131,
   "metadata": {},
   "outputs": [],
   "source": [
    "# rf_hyp = RandomForestClassifier(n_estimators = 1750, max_features = 6, max_depth = 16, n_jobs = -1)\n",
    "\n",
    "rf_hyp = RandomForestClassifier(n_estimators = 200, max_features = 8, max_depth = 2, n_jobs = -1)"
   ]
  },
  {
   "cell_type": "code",
   "execution_count": 132,
   "metadata": {},
   "outputs": [],
   "source": [
    "rf_hyp_CVScores = cvScores(rf_hyp, x_train_fs, y_train, cv = 5)"
   ]
  },
  {
   "cell_type": "code",
   "execution_count": 133,
   "metadata": {},
   "outputs": [
    {
     "name": "stdout",
     "output_type": "stream",
     "text": [
      "Random Forest\n",
      "    CV-Mean     CV-Sd\n",
      "0  0.808095  0.010605\n"
     ]
    }
   ],
   "source": [
    "print('Random Forest')\n",
    "print(rf_hyp_CVScores)"
   ]
  },
  {
   "cell_type": "markdown",
   "metadata": {},
   "source": [
    "#### Predictions and metrics"
   ]
  },
  {
   "cell_type": "code",
   "execution_count": 134,
   "metadata": {},
   "outputs": [],
   "source": [
    "# Fitting model\n",
    "rf_hyp = rf_hyp.fit(x_train_fs, y_train)"
   ]
  },
  {
   "cell_type": "code",
   "execution_count": 135,
   "metadata": {},
   "outputs": [
    {
     "name": "stdout",
     "output_type": "stream",
     "text": [
      "Random Forest Accuracy Score: 0.832222\n",
      "Random Forest Kappa Score: 0.402091 \n",
      "\n"
     ]
    }
   ],
   "source": [
    "rf_hyp_pred, accuracy_rf_hyp, kappa_rf_hyp = classif_predict_metric(rf_hyp, x_test_fs, y_test)\n",
    "\n",
    "print(\"Random Forest Accuracy Score: %.6f\" % accuracy_rf_hyp)\n",
    "print(\"Random Forest Kappa Score: %.6f \\n\" % kappa_rf_hyp)"
   ]
  },
  {
   "cell_type": "markdown",
   "metadata": {},
   "source": [
    "## SVM"
   ]
  },
  {
   "cell_type": "markdown",
   "metadata": {},
   "source": [
    "### Random Search"
   ]
  },
  {
   "cell_type": "code",
   "execution_count": 150,
   "metadata": {},
   "outputs": [
    {
     "name": "stdout",
     "output_type": "stream",
     "text": [
      "Fitting 3 folds for each of 100 candidates, totalling 300 fits\n"
     ]
    },
    {
     "name": "stderr",
     "output_type": "stream",
     "text": [
      "[Parallel(n_jobs=-1)]: Using backend LokyBackend with 4 concurrent workers.\n",
      "[Parallel(n_jobs=-1)]: Done  33 tasks      | elapsed:   10.0s\n",
      "[Parallel(n_jobs=-1)]: Done 154 tasks      | elapsed:   46.5s\n",
      "[Parallel(n_jobs=-1)]: Done 300 out of 300 | elapsed:  1.5min finished\n"
     ]
    },
    {
     "data": {
      "text/plain": [
       "{'kernel': 'linear', 'gamma': 1e-52, 'C': 5}"
      ]
     },
     "execution_count": 150,
     "metadata": {},
     "output_type": "execute_result"
    }
   ],
   "source": [
    "svm_params = {'gamma' : list(10.0**exp for exp in np.arange(-80, -49, 1)), \n",
    "            'C' : [3, 4, 5, 6, 7], \n",
    "            'kernel' : ['linear']}\n",
    "svm_default = SVC(gamma = 'auto', random_state = 0)\n",
    "\n",
    "svm_random = RandomizedSearchCV(estimator = svm_default, \n",
    "                               param_distributions = svm_params, \n",
    "                               n_iter = 100, \n",
    "                               cv = 3, verbose = 2, random_state = 0, n_jobs = -1)\n",
    "# Fit the random search model\n",
    "svm_random.fit(x_train_fs_std, y_train)\n",
    "svm_random.best_params_"
   ]
  },
  {
   "cell_type": "markdown",
   "metadata": {},
   "source": [
    "#### Cross-validation Scores"
   ]
  },
  {
   "cell_type": "code",
   "execution_count": 89,
   "metadata": {},
   "outputs": [],
   "source": [
    "svm_hyp = SVC(gamma = 1e-52, C = 5, kernel = 'linear')"
   ]
  },
  {
   "cell_type": "code",
   "execution_count": 90,
   "metadata": {},
   "outputs": [],
   "source": [
    "svm_hyp_CVScores = cvScores(svm_hyp, x_train_fs_std, y_train, cv = 5)"
   ]
  },
  {
   "cell_type": "code",
   "execution_count": 91,
   "metadata": {},
   "outputs": [
    {
     "name": "stdout",
     "output_type": "stream",
     "text": [
      "SVM\n",
      "   CV-Mean    CV-Sd\n",
      "0  0.80619  0.01612\n"
     ]
    }
   ],
   "source": [
    "print('SVM')\n",
    "print(svm_hyp_CVScores)"
   ]
  },
  {
   "cell_type": "markdown",
   "metadata": {},
   "source": [
    "#### Predictions and Metrics"
   ]
  },
  {
   "cell_type": "code",
   "execution_count": 92,
   "metadata": {},
   "outputs": [],
   "source": [
    "# Fitting model\n",
    "svm_hyp = svm_hyp.fit(x_train_fs_std, y_train)"
   ]
  },
  {
   "cell_type": "code",
   "execution_count": 93,
   "metadata": {},
   "outputs": [
    {
     "name": "stdout",
     "output_type": "stream",
     "text": [
      "SVM Accuracy Score: 0.801111\n",
      "SVM Kappa Score: 0.261876 \n",
      "\n"
     ]
    }
   ],
   "source": [
    "svm_hyp_pred, accuracy_svm_hyp, kappa_svm_hyp = classif_predict_metric(svm_hyp, x_test_fs_std, y_test)\n",
    "\n",
    "print(\"SVM Accuracy Score: %.6f\" % accuracy_svm_hyp)\n",
    "print(\"SVM Kappa Score: %.6f \\n\" % kappa_svm_hyp)"
   ]
  },
  {
   "cell_type": "markdown",
   "metadata": {},
   "source": [
    "## K-NN"
   ]
  },
  {
   "cell_type": "markdown",
   "metadata": {},
   "source": [
    "### Random Search"
   ]
  },
  {
   "cell_type": "code",
   "execution_count": 136,
   "metadata": {},
   "outputs": [
    {
     "name": "stdout",
     "output_type": "stream",
     "text": [
      "Fitting 3 folds for each of 100 candidates, totalling 300 fits\n"
     ]
    },
    {
     "name": "stderr",
     "output_type": "stream",
     "text": [
      "[Parallel(n_jobs=-1)]: Using backend LokyBackend with 4 concurrent workers.\n",
      "[Parallel(n_jobs=-1)]: Done  58 tasks      | elapsed:    1.6s\n",
      "[Parallel(n_jobs=-1)]: Done 300 out of 300 | elapsed:    8.1s finished\n"
     ]
    },
    {
     "data": {
      "text/plain": [
       "{'weights': 'uniform', 'n_neighbors': 35, 'algorithm': 'brute'}"
      ]
     },
     "execution_count": 136,
     "metadata": {},
     "output_type": "execute_result"
    }
   ],
   "source": [
    "knn_params = {'n_neighbors' : np.arange(3, 53, 2), \n",
    "            'weights' : ['uniform', 'distance'], \n",
    "            'algorithm' : ['ball_tree', 'kd_tree', 'brute']}\n",
    "knn_default = KNeighborsClassifier()\n",
    "\n",
    "knn_random = RandomizedSearchCV(estimator = knn_default, \n",
    "                               param_distributions = knn_params, \n",
    "                               n_iter = 100, \n",
    "                               cv = 3, verbose = 2, random_state = 0, n_jobs = -1)\n",
    "# Fit the random search model\n",
    "knn_random.fit(x_train_fs_std, y_train)\n",
    "knn_random.best_params_"
   ]
  },
  {
   "cell_type": "markdown",
   "metadata": {},
   "source": [
    "#### Cross-validation Scores"
   ]
  },
  {
   "cell_type": "code",
   "execution_count": 137,
   "metadata": {},
   "outputs": [],
   "source": [
    "knn_hyp = KNeighborsClassifier(n_neighbors = 35, weights = 'uniform', algorithm = 'brute', n_jobs = -1)"
   ]
  },
  {
   "cell_type": "code",
   "execution_count": 138,
   "metadata": {},
   "outputs": [],
   "source": [
    "knn_hyp_CVScores = cvScores(knn_hyp, x_train_fs_std, y_train, cv = 5)"
   ]
  },
  {
   "cell_type": "code",
   "execution_count": 139,
   "metadata": {},
   "outputs": [
    {
     "name": "stdout",
     "output_type": "stream",
     "text": [
      "K-NN\n",
      "    CV-Mean    CV-Sd\n",
      "0  0.815714  0.01633\n"
     ]
    }
   ],
   "source": [
    "print('K-NN')\n",
    "print(knn_hyp_CVScores)"
   ]
  },
  {
   "cell_type": "markdown",
   "metadata": {},
   "source": [
    "#### Predictions and Metrics"
   ]
  },
  {
   "cell_type": "code",
   "execution_count": 140,
   "metadata": {},
   "outputs": [],
   "source": [
    "# Fitting model\n",
    "knn_hyp = knn_hyp.fit(x_train_fs_std, y_train)"
   ]
  },
  {
   "cell_type": "code",
   "execution_count": 141,
   "metadata": {},
   "outputs": [
    {
     "name": "stdout",
     "output_type": "stream",
     "text": [
      "Random Forest Accuracy Score: 0.822222\n",
      "Random Forest Kappa Score: 0.370624 \n",
      "\n"
     ]
    }
   ],
   "source": [
    "knn_hyp_pred, accuracy_knn_hyp, kappa_knn_hyp = classif_predict_metric(knn_hyp, x_test_fs_std, y_test)\n",
    "\n",
    "print(\"Random Forest Accuracy Score: %.6f\" % accuracy_knn_hyp)\n",
    "print(\"Random Forest Kappa Score: %.6f \\n\" % kappa_knn_hyp)"
   ]
  },
  {
   "cell_type": "markdown",
   "metadata": {},
   "source": [
    "### Grid Search"
   ]
  },
  {
   "cell_type": "code",
   "execution_count": 143,
   "metadata": {},
   "outputs": [
    {
     "name": "stdout",
     "output_type": "stream",
     "text": [
      "Fitting 3 folds for each of 96 candidates, totalling 288 fits\n"
     ]
    },
    {
     "name": "stderr",
     "output_type": "stream",
     "text": [
      "[Parallel(n_jobs=-1)]: Using backend LokyBackend with 4 concurrent workers.\n",
      "[Parallel(n_jobs=-1)]: Done  58 tasks      | elapsed:    1.5s\n",
      "[Parallel(n_jobs=-1)]: Done 288 out of 288 | elapsed:    7.5s finished\n"
     ]
    },
    {
     "data": {
      "text/plain": [
       "{'algorithm': 'ball_tree', 'n_neighbors': 33, 'weights': 'uniform'}"
      ]
     },
     "execution_count": 143,
     "metadata": {},
     "output_type": "execute_result"
    }
   ],
   "source": [
    "knn_params = {'n_neighbors' : np.arange(15, 47, 2), \n",
    "            'weights' : ['uniform', 'distance'], \n",
    "            'algorithm' : ['ball_tree', 'kd_tree', 'brute']}\n",
    "knn_default = KNeighborsClassifier()\n",
    "\n",
    "knn_grid = GridSearchCV(estimator = knn_default, \n",
    "                          param_grid = knn_params, \n",
    "                          cv = 3, verbose = 2, n_jobs = -1)\n",
    "# Fit the random search model\n",
    "knn_grid.fit(x_train_fs_std, y_train)\n",
    "knn_grid.best_params_"
   ]
  },
  {
   "cell_type": "markdown",
   "metadata": {},
   "source": [
    "#### Cross-validation Scores"
   ]
  },
  {
   "cell_type": "code",
   "execution_count": 144,
   "metadata": {},
   "outputs": [],
   "source": [
    "knn_hyp = KNeighborsClassifier(n_neighbors = 33, weights = 'uniform', algorithm = 'ball_tree', n_jobs = -1)"
   ]
  },
  {
   "cell_type": "code",
   "execution_count": 145,
   "metadata": {},
   "outputs": [],
   "source": [
    "knn_hyp_CVScores = cvScores(knn_hyp, x_train_fs_std, y_train, cv = 5)"
   ]
  },
  {
   "cell_type": "code",
   "execution_count": 146,
   "metadata": {},
   "outputs": [
    {
     "name": "stdout",
     "output_type": "stream",
     "text": [
      "K-NN\n",
      "    CV-Mean    CV-Sd\n",
      "0  0.814762  0.01693\n"
     ]
    }
   ],
   "source": [
    "print('K-NN')\n",
    "print(knn_hyp_CVScores)"
   ]
  },
  {
   "cell_type": "markdown",
   "metadata": {},
   "source": [
    "#### Predictions and metrics"
   ]
  },
  {
   "cell_type": "code",
   "execution_count": 147,
   "metadata": {},
   "outputs": [],
   "source": [
    "# Fitting model\n",
    "knn_hyp = knn_hyp.fit(x_train_fs_std, y_train)"
   ]
  },
  {
   "cell_type": "code",
   "execution_count": 148,
   "metadata": {},
   "outputs": [
    {
     "name": "stdout",
     "output_type": "stream",
     "text": [
      "Random Forest Accuracy Score: 0.821111\n",
      "Random Forest Kappa Score: 0.368077 \n",
      "\n"
     ]
    }
   ],
   "source": [
    "knn_hyp_pred, accuracy_knn_hyp, kappa_knn_hyp = classif_predict_metric(knn_hyp, x_test_fs_std, y_test)\n",
    "\n",
    "print(\"Random Forest Accuracy Score: %.6f\" % accuracy_knn_hyp)\n",
    "print(\"Random Forest Kappa Score: %.6f \\n\" % kappa_knn_hyp)"
   ]
  },
  {
   "cell_type": "markdown",
   "metadata": {},
   "source": [
    "## Results"
   ]
  },
  {
   "cell_type": "markdown",
   "metadata": {},
   "source": [
    "### Accuracy and Kappa"
   ]
  },
  {
   "cell_type": "code",
   "execution_count": 149,
   "metadata": {},
   "outputs": [
    {
     "data": {
      "text/html": [
       "<div>\n",
       "<style scoped>\n",
       "    .dataframe tbody tr th:only-of-type {\n",
       "        vertical-align: middle;\n",
       "    }\n",
       "\n",
       "    .dataframe tbody tr th {\n",
       "        vertical-align: top;\n",
       "    }\n",
       "\n",
       "    .dataframe thead th {\n",
       "        text-align: right;\n",
       "    }\n",
       "</style>\n",
       "<table border=\"1\" class=\"dataframe\">\n",
       "  <thead>\n",
       "    <tr style=\"text-align: right;\">\n",
       "      <th></th>\n",
       "      <th>Accuracy</th>\n",
       "      <th>Kappa</th>\n",
       "    </tr>\n",
       "  </thead>\n",
       "  <tbody>\n",
       "    <tr>\n",
       "      <th>Random Forest</th>\n",
       "      <td>0.832222</td>\n",
       "      <td>0.402091</td>\n",
       "    </tr>\n",
       "    <tr>\n",
       "      <th>SVM</th>\n",
       "      <td>0.801111</td>\n",
       "      <td>0.261876</td>\n",
       "    </tr>\n",
       "    <tr>\n",
       "      <th>K-NN</th>\n",
       "      <td>0.821111</td>\n",
       "      <td>0.368077</td>\n",
       "    </tr>\n",
       "  </tbody>\n",
       "</table>\n",
       "</div>"
      ],
      "text/plain": [
       "               Accuracy     Kappa\n",
       "Random Forest  0.832222  0.402091\n",
       "SVM            0.801111  0.261876\n",
       "K-NN           0.821111  0.368077"
      ]
     },
     "execution_count": 149,
     "metadata": {},
     "output_type": "execute_result"
    }
   ],
   "source": [
    "accuracy = [accuracy_rf_hyp, accuracy_svm_hyp, accuracy_knn_hyp]\n",
    "kappa = [kappa_rf_hyp, kappa_svm_hyp, kappa_knn_hyp]\n",
    "algorithm = ['Random Forest', 'SVM', 'K-NN']\n",
    "\n",
    "results = pd.DataFrame({'Accuracy' : accuracy, 'Kappa' : kappa}, index = algorithm)\n",
    "results"
   ]
  },
  {
   "cell_type": "markdown",
   "metadata": {},
   "source": [
    "### Confusion Matrix"
   ]
  },
  {
   "cell_type": "code",
   "execution_count": 96,
   "metadata": {
    "scrolled": true
   },
   "outputs": [
    {
     "data": {
      "image/png": "[encoded data removed]",
      "text/plain": [
       "<Figure size 1080x288 with 6 Axes>"
      ]
     },
     "metadata": {
      "needs_background": "light"
     },
     "output_type": "display_data"
    }
   ],
   "source": [
    "confusionMatrix_rf = confusion_matrix(y_test, rf_hyp_pred)\n",
    "confusionMatrix_svm = confusion_matrix(y_test, svm_hyp_pred)\n",
    "confusionMatrix_knn = confusion_matrix(y_test, knn_hyp_pred)\n",
    "\n",
    "fig, ax = plt.subplots(1, 3)\n",
    "\n",
    "# labels, title and ticks\n",
    "sns.heatmap(confusionMatrix_rf, annot = True, ax = ax[0], fmt = 'g');\n",
    "ax[0].set_xlabel('Predicted labels');\n",
    "ax[0].set_ylabel('True labels'); \n",
    "ax[0].set_title('Random Forest Confusion Matrix');\n",
    "\n",
    "sns.heatmap(confusionMatrix_svm, annot = True, ax = ax[1], fmt = 'g');\n",
    "ax[1].set_xlabel('Predicted labels');\n",
    "ax[1].set_ylabel('True labels'); \n",
    "ax[1].set_title('SVM Confusion Matrix');\n",
    "\n",
    "sns.heatmap(confusionMatrix_knn, annot = True, ax = ax[2], fmt = 'g');\n",
    "ax[2].set_xlabel('Predicted labels');\n",
    "ax[2].set_ylabel('True labels'); \n",
    "ax[2].set_title('K-NN Confusion Matrix');\n",
    "\n",
    "fig.set_figwidth(15)\n",
    "\n",
    "plt.subplots_adjust(wspace = 0.2)\n",
    "plt.show()"
   ]
  }
 ],
 "metadata": {
  "kernelspec": {
   "display_name": "Python 3",
   "language": "python",
   "name": "python3"
  },
  "language_info": {
   "codemirror_mode": {
    "name": "ipython",
    "version": 3
   },
   "file_extension": ".py",
   "mimetype": "text/x-python",
   "name": "python",
   "nbconvert_exporter": "python",
   "pygments_lexer": "ipython3",
   "version": "3.6.8"
  }
 },
 "nbformat": 4,
 "nbformat_minor": 2
}
